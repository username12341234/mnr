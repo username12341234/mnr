{
 "cells": [
  {
   "cell_type": "code",
   "execution_count": 10,
   "metadata": {},
   "outputs": [
    {
     "name": "stdout",
     "output_type": "stream",
     "text": [
      "6386\n",
      "6614\n",
      "6846\n",
      "7082\n",
      "7322\n",
      "7566\n",
      "7814\n",
      "8066\n",
      "8322\n",
      "8582\n",
      "8846\n",
      "9114\n",
      "9386\n",
      "9662\n",
      "9942\n",
      "10226\n",
      "10514\n",
      "10806\n",
      "11102\n",
      "11402\n",
      "11706\n",
      "12014\n",
      "12326\n",
      "12642\n",
      "12962\n",
      "13286\n",
      "13614\n",
      "13946\n",
      "14282\n",
      "14622\n",
      "14966\n",
      "15314\n",
      "15666\n",
      "16022\n",
      "16382\n",
      "16746\n",
      "17114\n",
      "17486\n",
      "17862\n",
      "18242\n",
      "18626\n",
      "19014\n",
      "19406\n",
      "19802\n",
      "20202\n"
     ]
    }
   ],
   "source": [
    "for x in range (56,101):\n",
    "    y = 2*x**2 + 2*x + 2\n",
    "    print(y)"
   ]
  },
  {
   "cell_type": "code",
   "execution_count": 14,
   "metadata": {},
   "outputs": [
    {
     "name": "stdout",
     "output_type": "stream",
     "text": [
      "insert your value here:\n",
      "5\n",
      "factorial of the inserted value is:  120\n"
     ]
    }
   ],
   "source": [
    "def factorial(x):\n",
    "    if x>1:\n",
    "        return x*factorial(x-1)\n",
    "    elif x in (0,1):\n",
    "        return 1;\n",
    "print('insert your value here:')\n",
    "x = int(input())\n",
    "print('factorial of the inserted value is: ', factorial(x))"
   ]
  },
  {
   "cell_type": "code",
   "execution_count": 11,
   "metadata": {},
   "outputs": [
    {
     "name": "stdout",
     "output_type": "stream",
     "text": [
      "1\n",
      "5\n"
     ]
    }
   ],
   "source": [
    "arr = ([3,2,5,100,2.5,1])\n",
    "x = (min(arr))\n",
    "print(x)\n",
    "print(arr.index(x))"
   ]
  }
 ],
 "metadata": {
  "kernelspec": {
   "display_name": "Python 3",
   "language": "python",
   "name": "python3"
  },
  "language_info": {
   "codemirror_mode": {
    "name": "ipython",
    "version": 3
   },
   "file_extension": ".py",
   "mimetype": "text/x-python",
   "name": "python",
   "nbconvert_exporter": "python",
   "pygments_lexer": "ipython3",
   "version": "3.7.1"
  }
 },
 "nbformat": 4,
 "nbformat_minor": 2
}
